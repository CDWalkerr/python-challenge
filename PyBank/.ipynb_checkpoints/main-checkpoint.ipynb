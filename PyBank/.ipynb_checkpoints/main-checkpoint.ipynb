{
 "cells": [
  {
   "cell_type": "code",
   "execution_count": 56,
   "id": "d643a731-395c-47db-b04f-0056e4247d75",
   "metadata": {},
   "outputs": [],
   "source": [
    "import os\n",
    "import csv"
   ]
  },
  {
   "cell_type": "code",
   "execution_count": 57,
   "id": "bf94fd9e-cff2-4f2d-bf2d-4914652ad205",
   "metadata": {},
   "outputs": [],
   "source": [
    "csvpath = os.path.join(\"..\", \"PyBank\", \"budget_data.csv\")"
   ]
  },
  {
   "cell_type": "code",
   "execution_count": 75,
   "id": "d8e28672-8551-4b70-af32-d39e1545ed31",
   "metadata": {},
   "outputs": [
    {
     "ename": "TypeError",
     "evalue": "'int' object is not subscriptable",
     "output_type": "error",
     "traceback": [
      "\u001b[0;31m---------------------------------------------------------------------------\u001b[0m",
      "\u001b[0;31mTypeError\u001b[0m                                 Traceback (most recent call last)",
      "\u001b[0;32m/var/folders/rl/6l853mj55xbggw4jqlysqzv80000gn/T/ipykernel_23498/737813101.py\u001b[0m in \u001b[0;36m<module>\u001b[0;34m\u001b[0m\n\u001b[1;32m     33\u001b[0m             \u001b[0mlast_profit\u001b[0m \u001b[0;34m=\u001b[0m \u001b[0mprofit\u001b[0m\u001b[0;34m\u001b[0m\u001b[0;34m\u001b[0m\u001b[0m\n\u001b[1;32m     34\u001b[0m \u001b[0;34m\u001b[0m\u001b[0m\n\u001b[0;32m---> 35\u001b[0;31m         \u001b[0;32mif\u001b[0m \u001b[0mdifference\u001b[0m \u001b[0;34m>\u001b[0m \u001b[0mmax_increase\u001b[0m\u001b[0;34m[\u001b[0m\u001b[0;36m1\u001b[0m\u001b[0;34m]\u001b[0m\u001b[0;34m:\u001b[0m\u001b[0;34m\u001b[0m\u001b[0;34m\u001b[0m\u001b[0m\n\u001b[0m\u001b[1;32m     36\u001b[0m             \u001b[0mmax_increase\u001b[0m \u001b[0;34m=\u001b[0m \u001b[0mrow\u001b[0m\u001b[0;34m\u001b[0m\u001b[0;34m\u001b[0m\u001b[0m\n\u001b[1;32m     37\u001b[0m \u001b[0;34m\u001b[0m\u001b[0m\n",
      "\u001b[0;31mTypeError\u001b[0m: 'int' object is not subscriptable"
     ]
    }
   ],
   "source": [
    "with open(csvpath, newline=\"\") as csvfile:\n",
    "    csvreader = csv.reader(csvfile, delimiter=\",\")\n",
    "    \n",
    "    csv_header = next(csvreader)\n",
    "    \n",
    "    # Initlize variables to store data\n",
    "    total_months = 0\n",
    "    total = 0\n",
    "    total_difference = 0\n",
    "    average_change = 0\n",
    "    last_profit = 0\n",
    "    max_increase = 0\n",
    "    max_decrease = 0\n",
    "    \n",
    "    for row in csvreader:\n",
    "        # Extract profit from each row in data and convert to int\n",
    "        profit = int(row[1])\n",
    "        \n",
    "        # Add profit to running total\n",
    "        total += profit\n",
    "        \n",
    "        # Count the number of months\n",
    "        total_months += 1\n",
    "        \n",
    "        # asdlk\n",
    "        if total_months == 1:\n",
    "            last_profit = profit\n",
    "        # \n",
    "        else:\n",
    "            difference = profit - last_profit\n",
    "            \n",
    "            total_difference += difference\n",
    "            last_profit = profit\n",
    "            \n",
    "        if difference > max_increase:\n",
    "            max_increase = difference\n",
    "        \n",
    "        if difference < max_decrease:\n",
    "            max_decrease = difference\n",
    "    \n",
    "    average_change = total_difference / (total_months - 1)\n",
    "    \n",
    "\n",
    "    print(f\"Total Months: {total_months}\")\n",
    "    print(f\"Total: ${total}\")\n",
    "    print(f\"Average Change: ${average_change}\")\n",
    "    print(f\"Greatest Increase in Profits: {max_increase}\")\n",
    "    print(f\"Greatest Decrease in Profits: {max_decrease}\")\n",
    "          "
   ]
  },
  {
   "cell_type": "code",
   "execution_count": 72,
   "id": "36f81579-4e4f-4d1c-abe9-51710aa0846c",
   "metadata": {},
   "outputs": [
    {
     "name": "stdout",
     "output_type": "stream",
     "text": [
      "This is my current letter:  a\n",
      "This is my last letter:  \n",
      "\n",
      "\n",
      "This is my current letter:  b\n",
      "This is my last letter:  a\n",
      "\n",
      "\n",
      "This is my current letter:  c\n",
      "This is my last letter:  b\n",
      "\n",
      "\n",
      "This is my current letter:  d\n",
      "This is my last letter:  c\n",
      "\n",
      "\n",
      "This is my current letter:  e\n",
      "This is my last letter:  d\n",
      "\n",
      "\n",
      "This is my current letter:  f\n",
      "This is my last letter:  e\n",
      "\n",
      "\n"
     ]
    }
   ],
   "source": [
    "myList = [\"a\",\"b\",\"c\",\"d\",\"e\",\"f\"]\n",
    "last_letter = \"\"\n",
    "counter = 0 \n",
    "\n",
    "for i in myList:\n",
    "    if counter == 0:\n",
    "        print(\"This is my current letter: \", i)\n",
    "        print(\"This is my last letter: \", last_letter)\n",
    "        \n",
    "        last_letter = i #store current letter as last letter\n",
    "        \n",
    "    else:\n",
    "        \n",
    "        print(\"This is my current letter: \", i)\n",
    "        print(\"This is my last letter: \", last_letter)\n",
    "        last_letter = i\n",
    "    \n",
    "    counter +=1\n",
    "    \n",
    "    print(\"\\n\")"
   ]
  },
  {
   "cell_type": "code",
   "execution_count": null,
   "id": "ab3e46f2-58a1-40e6-a129-035010625639",
   "metadata": {},
   "outputs": [],
   "source": []
  }
 ],
 "metadata": {
  "kernelspec": {
   "display_name": "Python 3 (ipykernel)",
   "language": "python",
   "name": "python3"
  },
  "language_info": {
   "codemirror_mode": {
    "name": "ipython",
    "version": 3
   },
   "file_extension": ".py",
   "mimetype": "text/x-python",
   "name": "python",
   "nbconvert_exporter": "python",
   "pygments_lexer": "ipython3",
   "version": "3.7.13"
  }
 },
 "nbformat": 4,
 "nbformat_minor": 5
}
