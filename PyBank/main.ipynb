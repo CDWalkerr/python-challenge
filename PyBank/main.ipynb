{
 "cells": [
  {
   "cell_type": "code",
   "execution_count": 56,
   "id": "d643a731-395c-47db-b04f-0056e4247d75",
   "metadata": {},
   "outputs": [],
   "source": [
    "# Import the necessary libraries in order to read the data files\n",
    "import os\n",
    "import csv"
   ]
  },
  {
   "cell_type": "code",
   "execution_count": 57,
   "id": "bf94fd9e-cff2-4f2d-bf2d-4914652ad205",
   "metadata": {
    "tags": []
   },
   "outputs": [],
   "source": [
    "# Establish the path to the data files\n",
    "csvpath = os.path.join(\"..\", \"PyBank\", \"budget_data.csv\")"
   ]
  },
  {
   "cell_type": "code",
   "execution_count": 82,
   "id": "d8e28672-8551-4b70-af32-d39e1545ed31",
   "metadata": {},
   "outputs": [
    {
     "name": "stdout",
     "output_type": "stream",
     "text": [
      "Total Months: 86\n",
      "Total: $38382578\n",
      "Average Change: $-2315.1176470588234\n",
      "Greatest Increase in Profits: Feb-2012 ($1926159)\n",
      "Greatest Decrease in Profits: Sep-2013 ($-2196167)\n"
     ]
    }
   ],
   "source": [
    "# Open file and ignore the headers above the data\n",
    "with open(csvpath, newline=\"\") as csvfile:\n",
    "    csvreader = csv.reader(csvfile, delimiter=\",\")\n",
    "    csv_header = next(csvreader)\n",
    "    \n",
    "    # Initlize variables to store data\n",
    "    total_months = 0\n",
    "    total = 0\n",
    "    total_difference = 0\n",
    "    average_change = 0\n",
    "    last_profit = 0\n",
    "    max_increase = 0\n",
    "    max_decrease = 0\n",
    "    max_increase_date = \"\"\n",
    "    max_decrease_date = \"\"\n",
    "    \n",
    "    # Loop through each row of data\n",
    "    for row in csvreader:\n",
    "        \n",
    "        # Extract profit from each row in data and convert to interger\n",
    "        profit = int(row[1])\n",
    "        \n",
    "        # Add profit to running total\n",
    "        total += profit\n",
    "        \n",
    "        # Count the number of months\n",
    "        total_months += 1\n",
    "        \n",
    "        # Skip the first month when finding the change in profits\n",
    "        if total_months == 1:\n",
    "            last_profit = profit\n",
    "        \n",
    "        # Find the difference in successive profits and add to total difference\n",
    "        else:\n",
    "            difference = profit - last_profit\n",
    "            total_difference += difference\n",
    "            last_profit = profit\n",
    "        \n",
    "        # Update max increase and date if the difference is greater\n",
    "        if difference > max_increase:\n",
    "            max_increase = difference\n",
    "            max_increase_date = row[0]\n",
    "        \n",
    "        # Update max decrease and date if the difference is less\n",
    "        if difference < max_decrease:\n",
    "            max_decrease = difference\n",
    "            max_decrease_date = row[0]\n",
    "    \n",
    "    # Establish that the first month is ignored when finding the average change (because there was no profit before the first month)\n",
    "    average_change = total_difference / (total_months - 1)\n",
    "    \n",
    "    # Print all variables with the assigned values\n",
    "    print(f\"Total Months: {total_months}\")\n",
    "    print(f\"Total: ${total}\")\n",
    "    print(f\"Average Change: ${average_change}\")\n",
    "    print(f\"Greatest Increase in Profits: {max_increase_date} (${max_increase})\")\n",
    "    print(f\"Greatest Decrease in Profits: {max_decrease_date} (${max_decrease})\")"
   ]
  }
 ],
 "metadata": {
  "kernelspec": {
   "display_name": "Python 3 (ipykernel)",
   "language": "python",
   "name": "python3"
  },
  "language_info": {
   "codemirror_mode": {
    "name": "ipython",
    "version": 3
   },
   "file_extension": ".py",
   "mimetype": "text/x-python",
   "name": "python",
   "nbconvert_exporter": "python",
   "pygments_lexer": "ipython3",
   "version": "3.7.13"
  }
 },
 "nbformat": 4,
 "nbformat_minor": 5
}
